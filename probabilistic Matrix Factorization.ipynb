{
 "cells": [
  {
   "cell_type": "markdown",
   "metadata": {},
   "source": [
    "# Probabilistic Matrix Factorization "
   ]
  },
  {
   "cell_type": "markdown",
   "metadata": {},
   "source": [
    "***\n",
    "## Abstract:\n",
    "以ML-100K與million song dataset資料為範例，實作PMF與Constrained PMF模型。\n",
    "\n",
    "Reference:  \n",
    "[1]. Probabilistic Matrix Factorization.  \n",
    "[2]. an overview of gradient descent optimization algorithms.  \n",
    "[3]. https://zhuanlan.zhihu.com/p/34422451"
   ]
  },
  {
   "cell_type": "markdown",
   "metadata": {},
   "source": [
    "<br>\n",
    "***\n",
    "## PMF Model\n",
    "令評分資料為 $R_{N \\times M}$，其中有N個Users與M個Items。本文透過矩陣分解的方式，建立模型 $\\hat{R}=U^TV$，使得 $\\hat{R} \\approx R$。其中，$U_{D \\times N}$ 為User矩陣，$V_{D \\times M}$ 為item矩陣。簡單來說，模型透過矩陣分解的方式將評分矩陣分解為獨立(?)的U矩陣與V矩陣，並用D維的特徵(feature)來表示，已達到維度縮減、避免overfit的目的。\n",
    "\n",
    "我們令評分資料R的機率分配為：\n",
    "$$\n",
    "p(R|U,V,\\sigma^2) = \\prod^N_i\\prod^M_j{[N(R_{ij}| U^T_iV_j, \\sigma^2)]^{I_{ij}}}\n",
    "$$\n",
    "其中$I_{ij}$為指標函數，若$R_{ij}$被觀察到則為1，否則為0。接著給定U與V的機率分配：\n",
    "$$\n",
    "p(U|\\sigma_U^2) = \\prod^N_i N(U_i | 0,\\sigma_U^2I), \\quad p(V|\\sigma_V^2) = \\prod^N_j N(V_j | 0,\\sigma_V^2I)\n",
    "$$\n",
    "\n",
    "經過複雜的拆解後[3]，可以寫出log posterior:\n",
    "$$\n",
    "\\ln p(U,V|R,\\sigma^2,\\sigma_U^2,\\sigma_V^2)= -\\frac{1}{2\\sigma^2}\\sum_i^N\\sum^M_j I_{ij} ( R_{ij}-U_i^TV_j)^2 -\n",
    "\\frac{1}{2\\sigma_U^2}\\sum_i^N U_i^TU_i - \n",
    "\\frac{1}{2\\sigma_V^2}\\sum_i^N V_j^TV_j \\\\ -\n",
    "\\frac{1}{2}[(\\sum_i^N\\sum^M_j I_{ij}) \\ln \\sigma^2 + ND\\ln\\sigma_U^2 + MD\\ln\\sigma_V^2] + C\n",
    "$$\n",
    "再經過一波整理，若設$\\lambda_U = \\frac{\\sigma^2}{\\sigma^2_U}$，$\\lambda_V = \\frac{\\sigma^2}{\\sigma^2_V}$並固定之，則極大化log posterior 同義於極小化 loss function E：\n",
    "$$\n",
    "E = \\frac{1}{2}\\sum_i^N\\sum^M_j I_{ij} ( R_{ij}-U_i^TV_j)^2 + \\frac{\\lambda_U}{2}\\sum_i^N \\mid\\mid U_i \\mid \\mid^2_{Fro} +\n",
    "\\frac{\\lambda_V}{2}\\sum_j^M \\mid\\mid V_j \\mid \\mid^2_{Fro}\n",
    "$$\n"
   ]
  },
  {
   "cell_type": "markdown",
   "metadata": {},
   "source": [
    "接著，為了找出極小化E的參數值，我們嘗試使用gradient descent的Adam法[2]。首先求出gradient\n",
    "$$\n",
    "\\frac{\\partial E}{U_i} = -\\sum_j^MI_{ij}(R_{ij}-U_i^TV_j)V_j + \\lambda_UU_i \\\\\n",
    "\\frac{\\partial E}{V_j} = -\\sum_i^NI_{ij}(R_{ij}-U_i^TV_j)U_i + \\lambda_VV_j\n",
    "$$\n",
    "接著利用[3]的方法進行參數更新，直至迭代上限。此處我們使用Adam法，但是參數值是全部\"龜一次\"後，才會更新一次loss值。\n"
   ]
  },
  {
   "cell_type": "markdown",
   "metadata": {},
   "source": [
    "***\n",
    "## ML100K 實作："
   ]
  },
  {
   "cell_type": "markdown",
   "metadata": {},
   "source": [
    "#### Import modules"
   ]
  },
  {
   "cell_type": "code",
   "execution_count": 368,
   "metadata": {},
   "outputs": [],
   "source": [
    "import numpy as np\n",
    "import datetime\n",
    "from collections import Counter,defaultdict\n",
    "import matplotlib.pyplot as plt\n",
    "%matplotlib inline"
   ]
  },
  {
   "cell_type": "markdown",
   "metadata": {},
   "source": [
    "#### Load data:"
   ]
  },
  {
   "cell_type": "code",
   "execution_count": 361,
   "metadata": {},
   "outputs": [],
   "source": [
    "with open(\"ml-100k/u.data\",'r') as f:\n",
    "    log = defaultdict(list)\n",
    "    for line in f:\n",
    "        user,item,rate,value = line.split(\"\\t\")\n",
    "        log[int(user)].append([int(item),int(rate),int(value)])\n"
   ]
  },
  {
   "cell_type": "markdown",
   "metadata": {},
   "source": [
    "#### Split data:\n",
    "Here we take the last 5 movie rating of each user as test set.  \n",
    "In other words, we use the past rating from each user to predict the latest five rating from them, as it is,in my opinion, a more realistic situation."
   ]
  },
  {
   "cell_type": "code",
   "execution_count": 362,
   "metadata": {},
   "outputs": [],
   "source": [
    "train = []\n",
    "test = []\n",
    "for key,value in log.items():\n",
    "    value = sorted(value,key=lambda x:x[2])\n",
    "    test_current =[[key]+value.pop() for i in range(5)]\n",
    "    train_current = [[key]+item for item in value]\n",
    "    train = train + train_current\n",
    "    test = test + test_current"
   ]
  },
  {
   "cell_type": "markdown",
   "metadata": {},
   "source": [
    "### Count how many user and item in log/train/test\n",
    "Note that we have 943 users/1682 items in u.data."
   ]
  },
  {
   "cell_type": "code",
   "execution_count": 363,
   "metadata": {},
   "outputs": [
    {
     "name": "stdout",
     "output_type": "stream",
     "text": [
      "###Train:\n",
      "   sample size:95285\n",
      "   User:943, Item:1671, mean rating: 3.5341029542950095\n",
      "###Test:\n",
      "   sample size:4715\n",
      "   User:943, Item:1073, mean rating: 3.4441145281018026\n"
     ]
    }
   ],
   "source": [
    "temp = np.array(train)\n",
    "user = Counter(temp[:,0])\n",
    "item = Counter(temp[:,1])\n",
    "print(\"###Train:\\n   sample size:{}\\n   User:{}, Item:{}, mean rating: {}\".format(len(train),len(user),len(item),np.mean(temp[:,2])))\n",
    "\n",
    "temp = np.array(test)\n",
    "user = Counter(temp[:,0])\n",
    "item = Counter(temp[:,1])\n",
    "print(\"###Test:\\n   sample size:{}\\n   User:{}, Item:{}, mean rating: {}\".format(len(test),len(user),len(item),np.mean(temp[:,2])))\n",
    "\n",
    "del log,temp"
   ]
  },
  {
   "cell_type": "markdown",
   "metadata": {},
   "source": [
    "## Main function of PMF with Adam:"
   ]
  },
  {
   "cell_type": "code",
   "execution_count": 365,
   "metadata": {},
   "outputs": [],
   "source": [
    "def PMF_Adam(data,d=30,n_iter=10,n=943,m=1682,lambda_u=0.1,\n",
    "             lambda_v=0.1,learning_rate=0.01,beta1=0.9,beta2=0.999,eps=0.999):\n",
    "    \n",
    "    n_train = len(data)\n",
    "    loss_list = []\n",
    "    mse_list = []\n",
    "    \n",
    "    #transform log data to matrix-like:\n",
    "    r = np.zeros((n,m))\n",
    "    for row,col,rate,_ in data:\n",
    "        r[row-1,col-1]=rate\n",
    "    r = np.array(r)\n",
    "    \n",
    "    #init u,v vector with normal(0,lambda):\n",
    "    ut = np.random.normal(0,lambda_u,(n,d))\n",
    "    v = np.random.normal(0,lambda_v,(d,m))\n",
    "    \n",
    "    # du_table : save past gradient mean and gradient square in list. take du_table for example:\n",
    "    # du_table[i][t,mean,square] : i is the ith row of ut, t is t-th iter of parameter.\n",
    "    #                              mean and square are d-dim np.array.    \n",
    "    ##du_table = np.zeros((n,d,3))\n",
    "    ##dv_table = np.zeros((d,m,3))    \n",
    "    du_table = [[0,0,0] for i in range(n)]\n",
    "    dv_table = [[0,0,0] for i in range(m)]    \n",
    "    \n",
    "    # parameter update order: [i,j], i=0 for row, i=1 for column. j is number of row or col.\n",
    "    # Ex. [1,188] is column 188.\n",
    "    # this order is suhffled everytime gradients are all updated.    \n",
    "    order = [[0,i] for i in range(943)] + [[1,j] for j in range(1682)]\n",
    "    \n",
    "    #first loss:\n",
    "    loss =0\n",
    "    for row,col,rate,_ in data:\n",
    "        loss = loss + (rate-np.dot(ut[row-1,:],v[:,col-1]))**2 \n",
    "    mse = loss/n_train\n",
    "    mse_list.append(mse)\n",
    "    loss = loss/2 + lambda_u/2*np.sum(ut**2) + lambda_v/2*np.sum(v**2)\n",
    "    loss_list.append(loss)\n",
    "        \n",
    "    #gradient decent start!!!\n",
    "    for count in range(n_iter):\n",
    "        np.random.seed(123)\n",
    "        np.random.shuffle(order)\n",
    "        for sel in order:\n",
    "            # when col selected:\n",
    "            if sel[0]:\n",
    "                j = sel[1]\n",
    "                #gradient:\n",
    "                #dvj,mv,vv : d-dim array\n",
    "                dvj = [ [-(r[i,j]-np.dot(ut[i,:],v[:,j]))*ut[i,:]] for i in np.nonzero(r[:,j])[0]]\n",
    "                dvj = np.array(dvj) \n",
    "                dvj = np.sum(dvj,axis=0) + lambda_v*v[:,j]                \n",
    "                #current moment:\n",
    "                mv = beta1*dv_table[j][1] + (1-beta1)*dvj\n",
    "                vv = beta2*dv_table[j][2] + (1-beta2)*(dvj**2)\n",
    "                #moment update:\n",
    "                dv_table[j] = adam_update(dv_table[j],dvj)\n",
    "                #parameter update:\n",
    "                v[:,j] = v[:,j] - learning_rate/(eps+np.sqrt(vv/(1-beta2**dv_table[j][0])))*(mv/(1-beta1**dv_table[j][0]))\n",
    "            # when row selected:\n",
    "            else:\n",
    "                i = sel[1]\n",
    "                #gradient:\n",
    "                #dvj,mv,vv : d-dim array    \n",
    "                #dui = np.zeros(30)\n",
    "                #for j in np.nonzero(r[i,:])[0]:\n",
    "                #    dui = dui -(r[i,j]-np.dot(ut[i,:],v[:,j]))*v[:,j]                 \n",
    "                #####\n",
    "                #dui = np.array(dui) + lambda_u*ut[i,:]                \n",
    "                #dui = np.sum(dui,axis=0)                \n",
    "                #dvj,mv,vv : d-dim array\n",
    "                dui = [ [-(r[i,j]-np.dot(ut[i,:],v[:,j]))*v[:,j]] for j in np.nonzero(r[i,:])[0]]\n",
    "                dui = np.array(dui)\n",
    "                dui = np.sum(dui,axis=0) + lambda_u*ut[i,:]                \n",
    "                \n",
    "                #current moment:\n",
    "                mu = beta1*du_table[i][1] + (1-beta1)*dui\n",
    "                vu = beta2*du_table[i][2] + (1-beta2)*(dui**2)                \n",
    "                #moment update:\n",
    "                du_table[i] = adam_update(du_table[i],dui)\n",
    "                #parameter update:\n",
    "                ut[i,:] = ut[i,:] - learning_rate/(eps+np.sqrt(vu/(1-beta2**du_table[i][0])))*(mu/(1-beta1**du_table[i][0]))\n",
    "        \n",
    "        loss =0\n",
    "        # update loss and mse\n",
    "        for row,col,rate,_ in data:\n",
    "            loss = loss + (rate-np.dot(ut[row-1,:],v[:,col-1]))**2 \n",
    "        mse = loss/n_train\n",
    "        mse_list.append(mse)\n",
    "        loss = loss/2 + lambda_u/2*np.sum(ut**2) + lambda_v/2*np.sum(v**2)\n",
    "        loss_list.append(loss)\n",
    "        \n",
    "    return loss_list,mse_list,ut,v        \n",
    "\n",
    "# use to update first and second moment in Adam\n",
    "def adam_update(li,d):\n",
    "    if li[0]:\n",
    "        t = li[0]+1\n",
    "        li[1] = (li[1]*li[0]+d)/t\n",
    "        li[2] = (li[2]*li[0]+d**2)/t\n",
    "        li[0] = t\n",
    "    else:\n",
    "        li[0] = 1\n",
    "        li[1] = d\n",
    "        li[2] = d**2\n",
    "    return li"
   ]
  },
  {
   "cell_type": "markdown",
   "metadata": {},
   "source": [
    "## Lest's GO!\n",
    "Train model with my pathetic algorithm!"
   ]
  },
  {
   "cell_type": "code",
   "execution_count": 392,
   "metadata": {},
   "outputs": [
    {
     "name": "stdout",
     "output_type": "stream",
     "text": [
      "Start Time:  2018-08-30 15:43:05.668313\n",
      "End Time:  2018-08-30 15:57:06.314910\n"
     ]
    }
   ],
   "source": [
    "print(\"Start Time: \",datetime.datetime.now())\n",
    "loss,mse,ut,v = PMF_Adam(train,n_iter=500)\n",
    "print(\"End Time: \",datetime.datetime.now())"
   ]
  },
  {
   "cell_type": "markdown",
   "metadata": {},
   "source": [
    "#### Loss function and MSE in iteration"
   ]
  },
  {
   "cell_type": "code",
   "execution_count": 394,
   "metadata": {},
   "outputs": [
    {
     "data": {
      "text/plain": [
       "Text(0.5,1,'Mse')"
      ]
     },
     "execution_count": 394,
     "metadata": {},
     "output_type": "execute_result"
    },
    {
     "data": {
      "image/png": "[encoded data removed]",
      "text/plain": [
       "<matplotlib.figure.Figure at 0x124772128>"
      ]
     },
     "metadata": {},
     "output_type": "display_data"
    }
   ],
   "source": [
    "plt.figure(figsize=(12,6))\n",
    "plt.subplot(121)\n",
    "plt.scatter(x=list(range(501)),c=\"red\",y=loss)\n",
    "plt.title(\"Loss\")\n",
    "plt.subplot(122)\n",
    "plt.scatter(x=list(range(501)),c=\"orange\",y=mse)\n",
    "plt.title(\"Mse\")"
   ]
  },
  {
   "cell_type": "markdown",
   "metadata": {},
   "source": [
    "#### RMSE in train data:"
   ]
  },
  {
   "cell_type": "code",
   "execution_count": 403,
   "metadata": {},
   "outputs": [
    {
     "data": {
      "text/plain": [
       "0.86675783775617099"
      ]
     },
     "execution_count": 403,
     "metadata": {},
     "output_type": "execute_result"
    }
   ],
   "source": [
    "np.sqrt(mse[-1])"
   ]
  },
  {
   "cell_type": "markdown",
   "metadata": {},
   "source": [
    "#### MSE in test data:"
   ]
  },
  {
   "cell_type": "code",
   "execution_count": 416,
   "metadata": {},
   "outputs": [
    {
     "name": "stdout",
     "output_type": "stream",
     "text": [
      "1.15518387725\n"
     ]
    }
   ],
   "source": [
    "mse = 0\n",
    "for row,col,rate,_ in test:\n",
    "    mse = mse + (rate-np.dot(ut[row-1,:],v[:,col-1]))**2\n",
    "mse = np.mean(mse/len(test))\n",
    "rmse = np.sqrt(mse)\n",
    "print(rmse)"
   ]
  },
  {
   "cell_type": "markdown",
   "metadata": {},
   "source": [
    "#### How many items not in the training set:"
   ]
  },
  {
   "cell_type": "code",
   "execution_count": 426,
   "metadata": {},
   "outputs": [
    {
     "name": "stdout",
     "output_type": "stream",
     "text": [
      "{1671, 1130, 1674, 1613, 1645, 1618, 1650, 1236, 1525, 1624, 1625}\n"
     ]
    }
   ],
   "source": [
    "train_item = [item[1] for item in train]\n",
    "test_item = [item[1] for item in test]\n",
    "missing_item = set(test_item) - set(train_item)\n",
    "print(missing_item)"
   ]
  },
  {
   "cell_type": "markdown",
   "metadata": {},
   "source": [
    "#### how many rates among this items?"
   ]
  },
  {
   "cell_type": "code",
   "execution_count": 427,
   "metadata": {},
   "outputs": [
    {
     "name": "stdout",
     "output_type": "stream",
     "text": [
      "11\n"
     ]
    }
   ],
   "source": [
    "count = 0\n",
    "for item in test_item:\n",
    "    if item in missing_item:\n",
    "        count = count +1\n",
    "print(count)"
   ]
  },
  {
   "cell_type": "code",
   "execution_count": null,
   "metadata": {},
   "outputs": [],
   "source": []
  }
 ],
 "metadata": {
  "kernelspec": {
   "display_name": "Python 3",
   "language": "python",
   "name": "python3"
  },
  "language_info": {
   "codemirror_mode": {
    "name": "ipython",
    "version": 3
   },
   "file_extension": ".py",
   "mimetype": "text/x-python",
   "name": "python",
   "nbconvert_exporter": "python",
   "pygments_lexer": "ipython3",
   "version": "3.6.6"
  }
 },
 "nbformat": 4,
 "nbformat_minor": 2
}
